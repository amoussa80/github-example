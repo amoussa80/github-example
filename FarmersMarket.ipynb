{
 "cells": [
  {
   "cell_type": "markdown",
   "metadata": {},
   "source": [
    "<h1>Farmers Market Data Research\n"
   ]
  },
  {
   "cell_type": "markdown",
   "metadata": {},
   "source": [
    "<h3>Introduction"
   ]
  },
  {
   "cell_type": "markdown",
   "metadata": {},
   "source": [
    "<p>Nowadays almost everyone is conscious about their choices.  Be it trying to stay healthy and fit, to being eco friendly, and even buying local to reap the benefits of enriching our own economy.  Trying to figure out where to go to buy local produce, find more organic options, or just looking for something fresh is more accessible than ever.  Whole food markets are not always the ultimate choice since they tend to be a little pricy.  Farmer's markets are a great choice for single consumers, local restaurants, and surrounding bakeries and shops.</p>\n",
    "<p>In this report we will look at the demographics that will help us decide where the current local Farmers Markets are situated, and where would be a great location for a farmer to set shop.\n",
    "Looking at how popular one market is compared to another will help us decide what attributes to making a market successful.  What buyers look for in a market, what is important to them, what resonates with them, or leaves a lasting impression will be one of the goals of this research.</p> \n",
    "<p>It is common to find farmers markets downtown in the heart of any city.  But how about uptown, will that market be equally successful, or will it not be worth the effort to even try.  This analysis is aimed to answer all of these questions, and hopefully open the door for other ones that we did not initially consider.</p>\n"
   ]
  },
  {
   "cell_type": "code",
   "execution_count": null,
   "metadata": {},
   "outputs": [],
   "source": []
  }
 ],
 "metadata": {
  "kernelspec": {
   "display_name": "Python 3",
   "language": "python",
   "name": "python3"
  },
  "language_info": {
   "codemirror_mode": {
    "name": "ipython",
    "version": 3
   },
   "file_extension": ".py",
   "mimetype": "text/x-python",
   "name": "python",
   "nbconvert_exporter": "python",
   "pygments_lexer": "ipython3",
   "version": "3.6.8"
  }
 },
 "nbformat": 4,
 "nbformat_minor": 2
}
